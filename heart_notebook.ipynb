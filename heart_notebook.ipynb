{
 "cells": [
  {
   "cell_type": "markdown",
   "id": "9ab79867-82e0-4556-9408-58a85178843f",
   "metadata": {},
   "source": [
    "# Heart Attacks are Funny\n",
    "\n",
    "This is some analysis to save Rich Evans' life"
   ]
  },
  {
   "cell_type": "code",
   "execution_count": null,
   "id": "e365e14b-f42a-4f2b-871e-e6470d900a6a",
   "metadata": {},
   "outputs": [],
   "source": [
    "#importing libraries\n",
    "from sklearn.datasets import load_boston\n",
    "import pandas as pd\n",
    "import numpy as np\n",
    "import matplotlib\n",
    "import matplotlib.pyplot as plt\n",
    "import seaborn as sns\n",
    "import statsmodels.api as sm\n",
    "%matplotlib inline\n",
    "from sklearn.model_selection import train_test_split\n",
    "from sklearn.linear_model import LinearRegression\n",
    "from sklearn.feature_selection import RFE\n",
    "from sklearn.linear_model import RidgeCV, LassoCV, Ridge, Lasso#Loading the dataset"
   ]
  },
  {
   "cell_type": "markdown",
   "id": "587efd02-a329-47f8-8efc-947c4399ae9c",
   "metadata": {},
   "source": [
    "## Read in the data"
   ]
  },
  {
   "cell_type": "code",
   "execution_count": null,
   "id": "27afdf8a-037c-442f-8dcb-7a7829364b6a",
   "metadata": {},
   "outputs": [],
   "source": [
    "heart_df = pd.read_csv('heart.csv')"
   ]
  },
  {
   "cell_type": "markdown",
   "id": "e7f7a393-b318-44bc-84d5-ddfb3d41cbe9",
   "metadata": {},
   "source": [
    "## Show me that sweet data"
   ]
  },
  {
   "cell_type": "code",
   "execution_count": null,
   "id": "740b796b-8822-497e-92d0-ccb917151e36",
   "metadata": {},
   "outputs": [],
   "source": [
    "heart_df.head(5)"
   ]
  },
  {
   "cell_type": "markdown",
   "id": "325d269c-c408-4530-bac7-f3a8d3030ccb",
   "metadata": {},
   "source": [
    "### Features\n",
    "\n",
    "1. age - age in years\n",
    "2. sex - sex (1 = male; 0 = female)\n",
    "3. cp - chest pain type (1 = typical angina; 2 = atypical angina; 3 = non-anginal pain; 0 = asymptomatic)\n",
    "4. trestbps - resting blood pressure (in mm Hg on admission to the hospital)\n",
    "5. chol - serum cholestoral in mg/dl\n",
    "6. fbs - fasting blood sugar > 120 mg/dl (1 = true; 0 = false)\n",
    "7. restecg - resting electrocardiographic results (0 = normal; 1 = having ST-T; 2 = hypertrophy)\n",
    "8. thalach - maximum heart rate achieved\n",
    "9. exng - exercise induced angina (1 = yes; 0 = no)\n",
    "10. oldpeak - ST depression induced by exercise relative to rest\n",
    "11. slope - the slope of the peak exercise ST segment (1 = upsloping; 2 = flat; 3 = downsloping)\n",
    "12. ca - number of major vessels (0-3) colored by flourosopy\n",
    "13. thal - 2 = normal; 1 = fixed defect; 3 = reversable defect\n",
    "14. num - the predicted attribute - diagnosis of heart disease (angiographic disease status) (Value 0 = < diameter narrowing; Value 1 = > 50% diameter narrowing)"
   ]
  },
  {
   "cell_type": "markdown",
   "id": "2ce4a5e0-f7a2-4e81-a5ea-7bae61203790",
   "metadata": {},
   "source": [
    "Looks like the previous sample had a lot of people who are gonna die. Let's see some live Rich Evans"
   ]
  },
  {
   "cell_type": "code",
   "execution_count": null,
   "id": "62a933dc-fd66-4d1d-a20e-ceaf8f0a915a",
   "metadata": {},
   "outputs": [],
   "source": [
    "good_hearts = heart_df.where(heart_df['output'] == 0).dropna()\n",
    "good_hearts.head(5)"
   ]
  },
  {
   "cell_type": "markdown",
   "id": "a51a3883-cbb2-4c9d-9ded-1be8bf3d58d3",
   "metadata": {},
   "source": [
    "## Analysis\n",
    "\n",
    "Let's do some feature selection. Inspired by [this blog](https://towardsdatascience.com/feature-selection-with-pandas-e3690ad8504b)"
   ]
  },
  {
   "cell_type": "code",
   "execution_count": null,
   "id": "f7479a8a-f036-46ad-8863-d55b10bd5489",
   "metadata": {},
   "outputs": [],
   "source": [
    "X = heart_df.drop('output', axis=1)   #Feature Matrix\n",
    "y = heart_df['output']          #Target Variable"
   ]
  },
  {
   "cell_type": "code",
   "execution_count": null,
   "id": "0e828f36-1b09-41d0-a4af-727632ec2317",
   "metadata": {},
   "outputs": [],
   "source": [
    "#Using Pearson Correlation\n",
    "plt.figure(figsize=(12,10))\n",
    "cor = heart_df.corr()\n",
    "sns.heatmap(cor, annot=True, cmap=plt.cm.Reds)\n",
    "plt.show()"
   ]
  },
  {
   "cell_type": "code",
   "execution_count": null,
   "id": "599e15d2-3b95-4557-8648-9d5279208383",
   "metadata": {},
   "outputs": [],
   "source": [
    "#Correlation with output variable\n",
    "cor_target = abs(cor['output'])\n",
    "\n",
    "#Selecting highly correlated features\n",
    "relevant_features = cor_target[cor_target>0.4]\n",
    "relevant_features"
   ]
  },
  {
   "cell_type": "markdown",
   "id": "4cf2c991-4531-4d13-96fd-871720967379",
   "metadata": {},
   "source": [
    "## Initial thoughts\n",
    "\n",
    "Chest pain, max heart rate, angia from exercise, and ST depression all mean Rich is gonna die. Makes sense. We better hope he don't got none of that."
   ]
  },
  {
   "cell_type": "markdown",
   "id": "8ff6ed31-4cfd-4ef2-81cd-1fc6c3a1a88f",
   "metadata": {},
   "source": [
    "One of the assumptions of linear regression is that the independent variables need to be uncorrelated with each other. If these variables are correlated with each other, then we need to keep only one of them and drop the rest. So let us check the correlation of selected features with each other. This can be done either by visually checking it from the above correlation matrix or from the code snippet below"
   ]
  },
  {
   "cell_type": "code",
   "execution_count": null,
   "id": "a9d4f7eb-30cc-49af-a383-f1d141287fde",
   "metadata": {},
   "outputs": [],
   "source": [
    "print(heart_df[[\"cp\",\"thalachh\"]].corr())\n",
    "print(heart_df[[\"cp\",\"exng\"]].corr())\n",
    "print(heart_df[[\"cp\",\"oldpeak\"]].corr())\n",
    "print(heart_df[[\"exng\",\"thalachh\"]].corr())\n",
    "print(heart_df[[\"exng\",\"oldpeak\"]].corr())\n",
    "print(heart_df[[\"thalachh\",\"oldpeak\"]].corr())"
   ]
  },
  {
   "cell_type": "markdown",
   "id": "da5072a1-b7ed-4ccb-b6b8-ea497ec0037b",
   "metadata": {},
   "source": [
    "There are no correlations above 0.5 so we will keep all the features."
   ]
  },
  {
   "cell_type": "code",
   "execution_count": null,
   "id": "67c492a1-6733-48ed-8d88-de39b770361c",
   "metadata": {},
   "outputs": [],
   "source": []
  }
 ],
 "metadata": {
  "kernelspec": {
   "display_name": "Python 3",
   "language": "python",
   "name": "python3"
  },
  "language_info": {
   "codemirror_mode": {
    "name": "ipython",
    "version": 3
   },
   "file_extension": ".py",
   "mimetype": "text/x-python",
   "name": "python",
   "nbconvert_exporter": "python",
   "pygments_lexer": "ipython3",
   "version": "3.9.4"
  }
 },
 "nbformat": 4,
 "nbformat_minor": 5
}
