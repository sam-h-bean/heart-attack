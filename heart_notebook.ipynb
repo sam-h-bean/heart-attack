{
 "cells": [
  {
   "cell_type": "markdown",
   "id": "9ab79867-82e0-4556-9408-58a85178843f",
   "metadata": {},
   "source": [
    "# Heart Attacks are Funny\n",
    "\n",
    "This is some analysis to save Rich Evans' life"
   ]
  },
  {
   "cell_type": "code",
   "execution_count": null,
   "id": "e365e14b-f42a-4f2b-871e-e6470d900a6a",
   "metadata": {},
   "outputs": [],
   "source": [
    "import pandas as pd"
   ]
  },
  {
   "cell_type": "markdown",
   "id": "587efd02-a329-47f8-8efc-947c4399ae9c",
   "metadata": {},
   "source": [
    "## Read in the data"
   ]
  },
  {
   "cell_type": "code",
   "execution_count": null,
   "id": "27afdf8a-037c-442f-8dcb-7a7829364b6a",
   "metadata": {},
   "outputs": [],
   "source": [
    "heart_df = pd.read_csv('heart.csv')"
   ]
  },
  {
   "cell_type": "markdown",
   "id": "e7f7a393-b318-44bc-84d5-ddfb3d41cbe9",
   "metadata": {},
   "source": [
    "## Show me that sweet data"
   ]
  },
  {
   "cell_type": "code",
   "execution_count": null,
   "id": "740b796b-8822-497e-92d0-ccb917151e36",
   "metadata": {},
   "outputs": [],
   "source": [
    "heart_df.head(5)"
   ]
  },
  {
   "cell_type": "markdown",
   "id": "325d269c-c408-4530-bac7-f3a8d3030ccb",
   "metadata": {},
   "source": [
    "### Features\n",
    "\n",
    "1. age - age in years\n",
    "2. sex - sex (1 = male; 0 = female)\n",
    "3. cp - chest pain type (1 = typical angina; 2 = atypical angina; 3 = non-anginal pain; 0 = asymptomatic)\n",
    "4. trestbps - resting blood pressure (in mm Hg on admission to the hospital)\n",
    "5. chol - serum cholestoral in mg/dl\n",
    "6. fbs - fasting blood sugar > 120 mg/dl (1 = true; 0 = false)\n",
    "7. restecg - resting electrocardiographic results (0 = normal; 1 = having ST-T; 2 = hypertrophy)\n",
    "8. thalach - maximum heart rate achieved\n",
    "9. exang - exercise induced angina (1 = yes; 0 = no)\n",
    "10. oldpeak - ST depression induced by exercise relative to rest\n",
    "11. slope - the slope of the peak exercise ST segment (1 = upsloping; 2 = flat; 3 = downsloping)\n",
    "12. ca - number of major vessels (0-3) colored by flourosopy\n",
    "13. thal - 2 = normal; 1 = fixed defect; 3 = reversable defect\n",
    "14. num - the predicted attribute - diagnosis of heart disease (angiographic disease status) (Value 0 = < diameter narrowing; Value 1 = > 50% diameter narrowing)"
   ]
  },
  {
   "cell_type": "markdown",
   "id": "2ce4a5e0-f7a2-4e81-a5ea-7bae61203790",
   "metadata": {},
   "source": [
    "Looks like the previous sample had a lot of people who are gonna die. Let's see some live Rich Evans"
   ]
  },
  {
   "cell_type": "code",
   "execution_count": null,
   "id": "62a933dc-fd66-4d1d-a20e-ceaf8f0a915a",
   "metadata": {},
   "outputs": [],
   "source": [
    "good_hearts = heart_df.where(heart_df['output'] == 0).dropna()\n",
    "good_hearts.head(5)"
   ]
  },
  {
   "cell_type": "markdown",
   "id": "a51a3883-cbb2-4c9d-9ded-1be8bf3d58d3",
   "metadata": {},
   "source": [
    "## Analysis\n",
    "\n",
    "Let's do some feature selection. Inspired by [this blog](https://towardsdatascience.com/feature-selection-with-pandas-e3690ad8504b)"
   ]
  },
  {
   "cell_type": "code",
   "execution_count": null,
   "id": "f7479a8a-f036-46ad-8863-d55b10bd5489",
   "metadata": {},
   "outputs": [],
   "source": []
  }
 ],
 "metadata": {
  "kernelspec": {
   "display_name": "Python 3",
   "language": "python",
   "name": "python3"
  },
  "language_info": {
   "codemirror_mode": {
    "name": "ipython",
    "version": 3
   },
   "file_extension": ".py",
   "mimetype": "text/x-python",
   "name": "python",
   "nbconvert_exporter": "python",
   "pygments_lexer": "ipython3",
   "version": "3.9.4"
  }
 },
 "nbformat": 4,
 "nbformat_minor": 5
}
