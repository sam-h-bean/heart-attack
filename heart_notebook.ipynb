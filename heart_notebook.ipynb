{
 "cells": [
  {
   "cell_type": "markdown",
   "id": "9ab79867-82e0-4556-9408-58a85178843f",
   "metadata": {},
   "source": [
    "# Heart Attacks are Funny\n",
    "\n",
    "This is some analysis to save Rich Evans' life"
   ]
  },
  {
   "cell_type": "code",
   "execution_count": 1,
   "id": "e365e14b-f42a-4f2b-871e-e6470d900a6a",
   "metadata": {},
   "outputs": [],
   "source": [
    "#importing libraries\n",
    "from sklearn.datasets import load_boston\n",
    "import pandas as pd\n",
    "import numpy as np\n",
    "import matplotlib\n",
    "import matplotlib.pyplot as plt\n",
    "import seaborn as sns\n",
    "import statsmodels.api as sm\n",
    "%matplotlib inline\n",
    "from sklearn.model_selection import train_test_split\n",
    "from sklearn.linear_model import LinearRegression\n",
    "from sklearn.feature_selection import RFE\n",
    "from sklearn.linear_model import RidgeCV, LassoCV, Ridge, Lasso#Loading the dataset"
   ]
  },
  {
   "cell_type": "markdown",
   "id": "587efd02-a329-47f8-8efc-947c4399ae9c",
   "metadata": {},
   "source": [
    "## Read in the data"
   ]
  },
  {
   "cell_type": "code",
   "execution_count": 2,
   "id": "27afdf8a-037c-442f-8dcb-7a7829364b6a",
   "metadata": {},
   "outputs": [],
   "source": [
    "heart_df = pd.read_csv('heart.csv')"
   ]
  },
  {
   "cell_type": "markdown",
   "id": "e7f7a393-b318-44bc-84d5-ddfb3d41cbe9",
   "metadata": {},
   "source": [
    "## Show me that sweet data"
   ]
  },
  {
   "cell_type": "code",
   "execution_count": 3,
   "id": "740b796b-8822-497e-92d0-ccb917151e36",
   "metadata": {},
   "outputs": [
    {
     "data": {
      "text/html": [
       "<div>\n",
       "<style scoped>\n",
       "    .dataframe tbody tr th:only-of-type {\n",
       "        vertical-align: middle;\n",
       "    }\n",
       "\n",
       "    .dataframe tbody tr th {\n",
       "        vertical-align: top;\n",
       "    }\n",
       "\n",
       "    .dataframe thead th {\n",
       "        text-align: right;\n",
       "    }\n",
       "</style>\n",
       "<table border=\"1\" class=\"dataframe\">\n",
       "  <thead>\n",
       "    <tr style=\"text-align: right;\">\n",
       "      <th></th>\n",
       "      <th>age</th>\n",
       "      <th>sex</th>\n",
       "      <th>cp</th>\n",
       "      <th>trtbps</th>\n",
       "      <th>chol</th>\n",
       "      <th>fbs</th>\n",
       "      <th>restecg</th>\n",
       "      <th>thalachh</th>\n",
       "      <th>exng</th>\n",
       "      <th>oldpeak</th>\n",
       "      <th>slp</th>\n",
       "      <th>caa</th>\n",
       "      <th>thall</th>\n",
       "      <th>output</th>\n",
       "    </tr>\n",
       "  </thead>\n",
       "  <tbody>\n",
       "    <tr>\n",
       "      <th>0</th>\n",
       "      <td>63</td>\n",
       "      <td>1</td>\n",
       "      <td>3</td>\n",
       "      <td>145</td>\n",
       "      <td>233</td>\n",
       "      <td>1</td>\n",
       "      <td>0</td>\n",
       "      <td>150</td>\n",
       "      <td>0</td>\n",
       "      <td>2.3</td>\n",
       "      <td>0</td>\n",
       "      <td>0</td>\n",
       "      <td>1</td>\n",
       "      <td>1</td>\n",
       "    </tr>\n",
       "    <tr>\n",
       "      <th>1</th>\n",
       "      <td>37</td>\n",
       "      <td>1</td>\n",
       "      <td>2</td>\n",
       "      <td>130</td>\n",
       "      <td>250</td>\n",
       "      <td>0</td>\n",
       "      <td>1</td>\n",
       "      <td>187</td>\n",
       "      <td>0</td>\n",
       "      <td>3.5</td>\n",
       "      <td>0</td>\n",
       "      <td>0</td>\n",
       "      <td>2</td>\n",
       "      <td>1</td>\n",
       "    </tr>\n",
       "    <tr>\n",
       "      <th>2</th>\n",
       "      <td>41</td>\n",
       "      <td>0</td>\n",
       "      <td>1</td>\n",
       "      <td>130</td>\n",
       "      <td>204</td>\n",
       "      <td>0</td>\n",
       "      <td>0</td>\n",
       "      <td>172</td>\n",
       "      <td>0</td>\n",
       "      <td>1.4</td>\n",
       "      <td>2</td>\n",
       "      <td>0</td>\n",
       "      <td>2</td>\n",
       "      <td>1</td>\n",
       "    </tr>\n",
       "    <tr>\n",
       "      <th>3</th>\n",
       "      <td>56</td>\n",
       "      <td>1</td>\n",
       "      <td>1</td>\n",
       "      <td>120</td>\n",
       "      <td>236</td>\n",
       "      <td>0</td>\n",
       "      <td>1</td>\n",
       "      <td>178</td>\n",
       "      <td>0</td>\n",
       "      <td>0.8</td>\n",
       "      <td>2</td>\n",
       "      <td>0</td>\n",
       "      <td>2</td>\n",
       "      <td>1</td>\n",
       "    </tr>\n",
       "    <tr>\n",
       "      <th>4</th>\n",
       "      <td>57</td>\n",
       "      <td>0</td>\n",
       "      <td>0</td>\n",
       "      <td>120</td>\n",
       "      <td>354</td>\n",
       "      <td>0</td>\n",
       "      <td>1</td>\n",
       "      <td>163</td>\n",
       "      <td>1</td>\n",
       "      <td>0.6</td>\n",
       "      <td>2</td>\n",
       "      <td>0</td>\n",
       "      <td>2</td>\n",
       "      <td>1</td>\n",
       "    </tr>\n",
       "  </tbody>\n",
       "</table>\n",
       "</div>"
      ],
      "text/plain": [
       "   age  sex  cp  trtbps  chol  fbs  restecg  thalachh  exng  oldpeak  slp  \\\n",
       "0   63    1   3     145   233    1        0       150     0      2.3    0   \n",
       "1   37    1   2     130   250    0        1       187     0      3.5    0   \n",
       "2   41    0   1     130   204    0        0       172     0      1.4    2   \n",
       "3   56    1   1     120   236    0        1       178     0      0.8    2   \n",
       "4   57    0   0     120   354    0        1       163     1      0.6    2   \n",
       "\n",
       "   caa  thall  output  \n",
       "0    0      1       1  \n",
       "1    0      2       1  \n",
       "2    0      2       1  \n",
       "3    0      2       1  \n",
       "4    0      2       1  "
      ]
     },
     "execution_count": 3,
     "metadata": {},
     "output_type": "execute_result"
    }
   ],
   "source": [
    "heart_df.head(5)"
   ]
  },
  {
   "cell_type": "markdown",
   "id": "325d269c-c408-4530-bac7-f3a8d3030ccb",
   "metadata": {},
   "source": [
    "### Features\n",
    "\n",
    "1. age - age in years\n",
    "2. sex - sex (1 = male; 0 = female)\n",
    "3. cp - chest pain type (1 = typical angina; 2 = atypical angina; 3 = non-anginal pain; 0 = asymptomatic)\n",
    "4. trestbps - resting blood pressure (in mm Hg on admission to the hospital)\n",
    "5. chol - serum cholestoral in mg/dl\n",
    "6. fbs - fasting blood sugar > 120 mg/dl (1 = true; 0 = false)\n",
    "7. restecg - resting electrocardiographic results (0 = normal; 1 = having ST-T; 2 = hypertrophy)\n",
    "8. thalach - maximum heart rate achieved\n",
    "9. exng - exercise induced angina (1 = yes; 0 = no)\n",
    "10. oldpeak - ST depression induced by exercise relative to rest\n",
    "11. slope - the slope of the peak exercise ST segment (1 = upsloping; 2 = flat; 3 = downsloping)\n",
    "12. ca - number of major vessels (0-3) colored by flourosopy\n",
    "13. thal - 2 = normal; 1 = fixed defect; 3 = reversable defect\n",
    "14. num - the predicted attribute - diagnosis of heart disease (angiographic disease status) (Value 0 = < diameter narrowing; Value 1 = > 50% diameter narrowing)"
   ]
  },
  {
   "cell_type": "markdown",
   "id": "2ce4a5e0-f7a2-4e81-a5ea-7bae61203790",
   "metadata": {},
   "source": [
    "Looks like the previous sample had a lot of people who are gonna die. Let's see some live Rich Evans"
   ]
  },
  {
   "cell_type": "code",
   "execution_count": 4,
   "id": "62a933dc-fd66-4d1d-a20e-ceaf8f0a915a",
   "metadata": {},
   "outputs": [
    {
     "data": {
      "text/html": [
       "<div>\n",
       "<style scoped>\n",
       "    .dataframe tbody tr th:only-of-type {\n",
       "        vertical-align: middle;\n",
       "    }\n",
       "\n",
       "    .dataframe tbody tr th {\n",
       "        vertical-align: top;\n",
       "    }\n",
       "\n",
       "    .dataframe thead th {\n",
       "        text-align: right;\n",
       "    }\n",
       "</style>\n",
       "<table border=\"1\" class=\"dataframe\">\n",
       "  <thead>\n",
       "    <tr style=\"text-align: right;\">\n",
       "      <th></th>\n",
       "      <th>age</th>\n",
       "      <th>sex</th>\n",
       "      <th>cp</th>\n",
       "      <th>trtbps</th>\n",
       "      <th>chol</th>\n",
       "      <th>fbs</th>\n",
       "      <th>restecg</th>\n",
       "      <th>thalachh</th>\n",
       "      <th>exng</th>\n",
       "      <th>oldpeak</th>\n",
       "      <th>slp</th>\n",
       "      <th>caa</th>\n",
       "      <th>thall</th>\n",
       "      <th>output</th>\n",
       "    </tr>\n",
       "  </thead>\n",
       "  <tbody>\n",
       "    <tr>\n",
       "      <th>165</th>\n",
       "      <td>67.0</td>\n",
       "      <td>1.0</td>\n",
       "      <td>0.0</td>\n",
       "      <td>160.0</td>\n",
       "      <td>286.0</td>\n",
       "      <td>0.0</td>\n",
       "      <td>0.0</td>\n",
       "      <td>108.0</td>\n",
       "      <td>1.0</td>\n",
       "      <td>1.5</td>\n",
       "      <td>1.0</td>\n",
       "      <td>3.0</td>\n",
       "      <td>2.0</td>\n",
       "      <td>0.0</td>\n",
       "    </tr>\n",
       "    <tr>\n",
       "      <th>166</th>\n",
       "      <td>67.0</td>\n",
       "      <td>1.0</td>\n",
       "      <td>0.0</td>\n",
       "      <td>120.0</td>\n",
       "      <td>229.0</td>\n",
       "      <td>0.0</td>\n",
       "      <td>0.0</td>\n",
       "      <td>129.0</td>\n",
       "      <td>1.0</td>\n",
       "      <td>2.6</td>\n",
       "      <td>1.0</td>\n",
       "      <td>2.0</td>\n",
       "      <td>3.0</td>\n",
       "      <td>0.0</td>\n",
       "    </tr>\n",
       "    <tr>\n",
       "      <th>167</th>\n",
       "      <td>62.0</td>\n",
       "      <td>0.0</td>\n",
       "      <td>0.0</td>\n",
       "      <td>140.0</td>\n",
       "      <td>268.0</td>\n",
       "      <td>0.0</td>\n",
       "      <td>0.0</td>\n",
       "      <td>160.0</td>\n",
       "      <td>0.0</td>\n",
       "      <td>3.6</td>\n",
       "      <td>0.0</td>\n",
       "      <td>2.0</td>\n",
       "      <td>2.0</td>\n",
       "      <td>0.0</td>\n",
       "    </tr>\n",
       "    <tr>\n",
       "      <th>168</th>\n",
       "      <td>63.0</td>\n",
       "      <td>1.0</td>\n",
       "      <td>0.0</td>\n",
       "      <td>130.0</td>\n",
       "      <td>254.0</td>\n",
       "      <td>0.0</td>\n",
       "      <td>0.0</td>\n",
       "      <td>147.0</td>\n",
       "      <td>0.0</td>\n",
       "      <td>1.4</td>\n",
       "      <td>1.0</td>\n",
       "      <td>1.0</td>\n",
       "      <td>3.0</td>\n",
       "      <td>0.0</td>\n",
       "    </tr>\n",
       "    <tr>\n",
       "      <th>169</th>\n",
       "      <td>53.0</td>\n",
       "      <td>1.0</td>\n",
       "      <td>0.0</td>\n",
       "      <td>140.0</td>\n",
       "      <td>203.0</td>\n",
       "      <td>1.0</td>\n",
       "      <td>0.0</td>\n",
       "      <td>155.0</td>\n",
       "      <td>1.0</td>\n",
       "      <td>3.1</td>\n",
       "      <td>0.0</td>\n",
       "      <td>0.0</td>\n",
       "      <td>3.0</td>\n",
       "      <td>0.0</td>\n",
       "    </tr>\n",
       "  </tbody>\n",
       "</table>\n",
       "</div>"
      ],
      "text/plain": [
       "      age  sex   cp  trtbps   chol  fbs  restecg  thalachh  exng  oldpeak  \\\n",
       "165  67.0  1.0  0.0   160.0  286.0  0.0      0.0     108.0   1.0      1.5   \n",
       "166  67.0  1.0  0.0   120.0  229.0  0.0      0.0     129.0   1.0      2.6   \n",
       "167  62.0  0.0  0.0   140.0  268.0  0.0      0.0     160.0   0.0      3.6   \n",
       "168  63.0  1.0  0.0   130.0  254.0  0.0      0.0     147.0   0.0      1.4   \n",
       "169  53.0  1.0  0.0   140.0  203.0  1.0      0.0     155.0   1.0      3.1   \n",
       "\n",
       "     slp  caa  thall  output  \n",
       "165  1.0  3.0    2.0     0.0  \n",
       "166  1.0  2.0    3.0     0.0  \n",
       "167  0.0  2.0    2.0     0.0  \n",
       "168  1.0  1.0    3.0     0.0  \n",
       "169  0.0  0.0    3.0     0.0  "
      ]
     },
     "execution_count": 4,
     "metadata": {},
     "output_type": "execute_result"
    }
   ],
   "source": [
    "good_hearts = heart_df.where(heart_df['output'] == 0).dropna()\n",
    "good_hearts.head(5)"
   ]
  },
  {
   "cell_type": "markdown",
   "id": "a51a3883-cbb2-4c9d-9ded-1be8bf3d58d3",
   "metadata": {},
   "source": [
    "## Analysis\n",
    "\n",
    "Let's do some feature selection. Inspired by [this blog](https://towardsdatascience.com/feature-selection-with-pandas-e3690ad8504b)"
   ]
  },
  {
   "cell_type": "code",
   "execution_count": 5,
   "id": "f7479a8a-f036-46ad-8863-d55b10bd5489",
   "metadata": {},
   "outputs": [],
   "source": [
    "X = heart_df.drop('output', axis=1)   #Feature Matrix\n",
    "y = heart_df['output']          #Target Variable"
   ]
  },
  {
   "cell_type": "markdown",
   "id": "aac9185c-ddc0-46a6-8e91-d12cb4f08e35",
   "metadata": {},
   "source": [
    "### Pearson Correlation"
   ]
  },
  {
   "cell_type": "code",
   "execution_count": 6,
   "id": "0e828f36-1b09-41d0-a4af-727632ec2317",
   "metadata": {},
   "outputs": [
    {
     "data": {
      "image/png": "[encoded data removed]",
      "text/plain": [
       "<Figure size 864x720 with 2 Axes>"
      ]
     },
     "metadata": {
      "needs_background": "light"
     },
     "output_type": "display_data"
    }
   ],
   "source": [
    "#Using Pearson Correlation\n",
    "plt.figure(figsize=(12,10))\n",
    "cor = heart_df.corr()\n",
    "sns.heatmap(cor, annot=True, cmap=plt.cm.Reds)\n",
    "plt.show()"
   ]
  },
  {
   "cell_type": "code",
   "execution_count": 13,
   "id": "599e15d2-3b95-4557-8648-9d5279208383",
   "metadata": {},
   "outputs": [
    {
     "data": {
      "text/plain": [
       "cp          0.433798\n",
       "thalachh    0.421741\n",
       "exng        0.436757\n",
       "oldpeak     0.430696\n",
       "output      1.000000\n",
       "Name: output, dtype: float64"
      ]
     },
     "execution_count": 13,
     "metadata": {},
     "output_type": "execute_result"
    }
   ],
   "source": [
    "#Correlation with output variable\n",
    "cor_target = abs(cor['output'])\n",
    "\n",
    "#Selecting highly correlated features\n",
    "relevant_features = cor_target[cor_target>0.4]\n",
    "relevant_features"
   ]
  },
  {
   "cell_type": "markdown",
   "id": "4cf2c991-4531-4d13-96fd-871720967379",
   "metadata": {},
   "source": [
    "## Initial thoughts\n",
    "\n",
    "Chest pain, max heart rate, angia from exercise, and ST depression all mean Rich is gonna die. Makes sense. We better hope he don't got none of that."
   ]
  },
  {
   "cell_type": "markdown",
   "id": "8ff6ed31-4cfd-4ef2-81cd-1fc6c3a1a88f",
   "metadata": {},
   "source": [
    "One of the assumptions of linear regression is that the independent variables need to be uncorrelated with each other. If these variables are correlated with each other, then we need to keep only one of them and drop the rest. So let us check the correlation of selected features with each other. This can be done either by visually checking it from the above correlation matrix or from the code snippet below"
   ]
  },
  {
   "cell_type": "code",
   "execution_count": 8,
   "id": "a9d4f7eb-30cc-49af-a383-f1d141287fde",
   "metadata": {},
   "outputs": [
    {
     "name": "stdout",
     "output_type": "stream",
     "text": [
      "                cp  thalachh\n",
      "cp        1.000000  0.295762\n",
      "thalachh  0.295762  1.000000\n",
      "           cp     exng\n",
      "cp    1.00000 -0.39428\n",
      "exng -0.39428  1.00000\n",
      "              cp  oldpeak\n",
      "cp       1.00000 -0.14923\n",
      "oldpeak -0.14923  1.00000\n",
      "              exng  thalachh\n",
      "exng      1.000000 -0.378812\n",
      "thalachh -0.378812  1.000000\n",
      "             exng   oldpeak\n",
      "exng     1.000000  0.288223\n",
      "oldpeak  0.288223  1.000000\n",
      "          thalachh   oldpeak\n",
      "thalachh  1.000000 -0.344187\n",
      "oldpeak  -0.344187  1.000000\n"
     ]
    }
   ],
   "source": [
    "print(heart_df[[\"cp\",\"thalachh\"]].corr())\n",
    "print(heart_df[[\"cp\",\"exng\"]].corr())\n",
    "print(heart_df[[\"cp\",\"oldpeak\"]].corr())\n",
    "print(heart_df[[\"exng\",\"thalachh\"]].corr())\n",
    "print(heart_df[[\"exng\",\"oldpeak\"]].corr())\n",
    "print(heart_df[[\"thalachh\",\"oldpeak\"]].corr())"
   ]
  },
  {
   "cell_type": "markdown",
   "id": "da5072a1-b7ed-4ccb-b6b8-ea497ec0037b",
   "metadata": {},
   "source": [
    "There are no correlations above 0.5 so we will keep all the features."
   ]
  },
  {
   "cell_type": "markdown",
   "id": "4ca210ba-084b-4411-87d5-00ad510718b4",
   "metadata": {},
   "source": [
    "### Backward Elimination"
   ]
  },
  {
   "cell_type": "markdown",
   "id": "e368fd90-7383-4324-807f-ab5e6adeb540",
   "metadata": {},
   "source": [
    "Using a simple model (Ordinary Least Squares), feed all features to model. Then iteratively remove worst feature until we reach the desired performance to feature ratio. We will use a features p-value to determine whether it will save Mr. Evans' life."
   ]
  },
  {
   "cell_type": "code",
   "execution_count": 9,
   "id": "ccb4a91c-aaee-4dfc-a837-840c2c6d5c4a",
   "metadata": {},
   "outputs": [
    {
     "data": {
      "text/plain": [
       "const       4.986501e-03\n",
       "age         7.611292e-01\n",
       "sex         4.244938e-05\n",
       "cp          8.401461e-07\n",
       "trtbps      1.144073e-01\n",
       "chol        4.025451e-01\n",
       "fbs         7.711245e-01\n",
       "restecg     2.128192e-01\n",
       "thalachh    7.988188e-03\n",
       "exng        5.386779e-03\n",
       "oldpeak     1.084749e-02\n",
       "slp         6.345322e-02\n",
       "caa         6.248649e-06\n",
       "thall       9.523132e-04\n",
       "dtype: float64"
      ]
     },
     "execution_count": 9,
     "metadata": {},
     "output_type": "execute_result"
    }
   ],
   "source": [
    "#Adding constant column of ones, mandatory for sm.OLS model\n",
    "X_1 = sm.add_constant(X)\n",
    "\n",
    "#Fitting sm.OLS model\n",
    "model = sm.OLS(y, X_1).fit()\n",
    "model.pvalues"
   ]
  },
  {
   "cell_type": "markdown",
   "id": "6d5d6ed3-e25e-4236-b114-8e55bc987d86",
   "metadata": {},
   "source": [
    "A lower p-value means more statistical significance, so we remove the features with p-value > 0.05."
   ]
  },
  {
   "cell_type": "markdown",
   "id": "dc1bbb14-4582-4ade-b69c-c588527e2672",
   "metadata": {},
   "source": [
    "Now we loop training the model, checking the max p-value, and removing it until there are no features with p-value < 0.5"
   ]
  },
  {
   "cell_type": "code",
   "execution_count": 11,
   "id": "b65a0be7-a05c-4c0e-8045-4f314099d8ec",
   "metadata": {},
   "outputs": [
    {
     "name": "stdout",
     "output_type": "stream",
     "text": [
      "['sex', 'cp', 'thalachh', 'exng', 'oldpeak', 'caa', 'thall']\n"
     ]
    }
   ],
   "source": [
    "#Backward Elimination\n",
    "cols = list(X.columns)\n",
    "pmax = 1\n",
    "while(len(cols) > 0):\n",
    "    p= []\n",
    "    X_1 = X[cols]\n",
    "    X_1 = sm.add_constant(X_1)\n",
    "    model = sm.OLS(y,X_1).fit()\n",
    "    p = pd.Series(model.pvalues.values[1:],index = cols)      \n",
    "    pmax = max(p)\n",
    "    feature_with_p_max = p.idxmax()\n",
    "    if(pmax > 0.05):\n",
    "        cols.remove(feature_with_p_max)\n",
    "    else:\n",
    "        break\n",
    "        \n",
    "selected_features_BE = cols\n",
    "print(selected_features_BE)"
   ]
  },
  {
   "cell_type": "markdown",
   "id": "907c3b94-aa19-4898-ab44-2c28b36eef6c",
   "metadata": {},
   "source": [
    "Notice sex is in this feature set while not in the feature set which was selected via Pearson Correlation. It is possible that looking at the correlations of all features at once and selecting may give a worse candidate set of features versus knowing the right subset. This "
   ]
  },
  {
   "cell_type": "markdown",
   "id": "929015d6-72a5-4874-9228-b4e8c1882626",
   "metadata": {},
   "source": [
    "### RFE\n",
    "\n",
    "A more sophisticated feature elimination algorithm is the Recursive Feature Elimination (RFE) method which works by recursively removing attributes and building a model on those attributes that remain. It uses accuracy metric to rank the feature according to their importance. The RFE method takes the model to be used and the number of required features as input. It then gives the ranking of all the variables, 1 being most important. It also gives its support, True being relevant feature and False being irrelevant feature."
   ]
  },
  {
   "cell_type": "code",
   "execution_count": 14,
   "id": "fa38e74f-c0e0-4b6c-9d35-491226971df9",
   "metadata": {},
   "outputs": [
    {
     "name": "stdout",
     "output_type": "stream",
     "text": [
      "[False  True  True False False False False False  True  True  True  True\n",
      "  True]\n",
      "[6 1 1 5 7 4 2 3 1 1 1 1 1]\n"
     ]
    },
    {
     "name": "stderr",
     "output_type": "stream",
     "text": [
      "/home/marklar/.local/lib/python3.9/site-packages/sklearn/utils/validation.py:70: FutureWarning: Pass n_features_to_select=7 as keyword args. From version 1.0 (renaming of 0.25) passing these as positional arguments will result in an error\n",
      "  warnings.warn(f\"Pass {args_msg} as keyword args. From version \"\n"
     ]
    }
   ],
   "source": [
    "model = LinearRegression()\n",
    "\n",
    "#Initializing RFE model\n",
    "rfe = RFE(model, 7)\n",
    "\n",
    "#Transforming data using RFE\n",
    "X_rfe = rfe.fit_transform(X,y)\n",
    "\n",
    "#Fitting the data to model\n",
    "model.fit(X_rfe,y)\n",
    "\n",
    "print(rfe.support_)\n",
    "print(rfe.ranking_)"
   ]
  },
  {
   "cell_type": "code",
   "execution_count": 15,
   "id": "786c9d92-77f7-4f8d-9ab6-abac57f5a809",
   "metadata": {},
   "outputs": [
    {
     "name": "stdout",
     "output_type": "stream",
     "text": [
      "Optimum number of features: 11\n",
      "Score with 11 features: 0.435197\n"
     ]
    },
    {
     "name": "stderr",
     "output_type": "stream",
     "text": [
      "/home/marklar/.local/lib/python3.9/site-packages/sklearn/utils/validation.py:70: FutureWarning: Pass n_features_to_select=1 as keyword args. From version 1.0 (renaming of 0.25) passing these as positional arguments will result in an error\n",
      "  warnings.warn(f\"Pass {args_msg} as keyword args. From version \"\n",
      "/home/marklar/.local/lib/python3.9/site-packages/sklearn/utils/validation.py:70: FutureWarning: Pass n_features_to_select=2 as keyword args. From version 1.0 (renaming of 0.25) passing these as positional arguments will result in an error\n",
      "  warnings.warn(f\"Pass {args_msg} as keyword args. From version \"\n",
      "/home/marklar/.local/lib/python3.9/site-packages/sklearn/utils/validation.py:70: FutureWarning: Pass n_features_to_select=3 as keyword args. From version 1.0 (renaming of 0.25) passing these as positional arguments will result in an error\n",
      "  warnings.warn(f\"Pass {args_msg} as keyword args. From version \"\n",
      "/home/marklar/.local/lib/python3.9/site-packages/sklearn/utils/validation.py:70: FutureWarning: Pass n_features_to_select=4 as keyword args. From version 1.0 (renaming of 0.25) passing these as positional arguments will result in an error\n",
      "  warnings.warn(f\"Pass {args_msg} as keyword args. From version \"\n",
      "/home/marklar/.local/lib/python3.9/site-packages/sklearn/utils/validation.py:70: FutureWarning: Pass n_features_to_select=5 as keyword args. From version 1.0 (renaming of 0.25) passing these as positional arguments will result in an error\n",
      "  warnings.warn(f\"Pass {args_msg} as keyword args. From version \"\n",
      "/home/marklar/.local/lib/python3.9/site-packages/sklearn/utils/validation.py:70: FutureWarning: Pass n_features_to_select=6 as keyword args. From version 1.0 (renaming of 0.25) passing these as positional arguments will result in an error\n",
      "  warnings.warn(f\"Pass {args_msg} as keyword args. From version \"\n",
      "/home/marklar/.local/lib/python3.9/site-packages/sklearn/utils/validation.py:70: FutureWarning: Pass n_features_to_select=7 as keyword args. From version 1.0 (renaming of 0.25) passing these as positional arguments will result in an error\n",
      "  warnings.warn(f\"Pass {args_msg} as keyword args. From version \"\n",
      "/home/marklar/.local/lib/python3.9/site-packages/sklearn/utils/validation.py:70: FutureWarning: Pass n_features_to_select=8 as keyword args. From version 1.0 (renaming of 0.25) passing these as positional arguments will result in an error\n",
      "  warnings.warn(f\"Pass {args_msg} as keyword args. From version \"\n",
      "/home/marklar/.local/lib/python3.9/site-packages/sklearn/utils/validation.py:70: FutureWarning: Pass n_features_to_select=9 as keyword args. From version 1.0 (renaming of 0.25) passing these as positional arguments will result in an error\n",
      "  warnings.warn(f\"Pass {args_msg} as keyword args. From version \"\n",
      "/home/marklar/.local/lib/python3.9/site-packages/sklearn/utils/validation.py:70: FutureWarning: Pass n_features_to_select=10 as keyword args. From version 1.0 (renaming of 0.25) passing these as positional arguments will result in an error\n",
      "  warnings.warn(f\"Pass {args_msg} as keyword args. From version \"\n",
      "/home/marklar/.local/lib/python3.9/site-packages/sklearn/utils/validation.py:70: FutureWarning: Pass n_features_to_select=11 as keyword args. From version 1.0 (renaming of 0.25) passing these as positional arguments will result in an error\n",
      "  warnings.warn(f\"Pass {args_msg} as keyword args. From version \"\n",
      "/home/marklar/.local/lib/python3.9/site-packages/sklearn/utils/validation.py:70: FutureWarning: Pass n_features_to_select=12 as keyword args. From version 1.0 (renaming of 0.25) passing these as positional arguments will result in an error\n",
      "  warnings.warn(f\"Pass {args_msg} as keyword args. From version \"\n"
     ]
    }
   ],
   "source": [
    "#no of features\n",
    "nof_list=np.arange(1,13)            \n",
    "high_score=0\n",
    "#Variable to store the optimum features\n",
    "nof=0           \n",
    "score_list =[]\n",
    "for n in range(len(nof_list)):\n",
    "    X_train, X_test, y_train, y_test = train_test_split(X,y, test_size = 0.3, random_state = 0)\n",
    "    model = LinearRegression()\n",
    "    rfe = RFE(model,nof_list[n])\n",
    "    X_train_rfe = rfe.fit_transform(X_train,y_train)\n",
    "    X_test_rfe = rfe.transform(X_test)\n",
    "    model.fit(X_train_rfe,y_train)\n",
    "    score = model.score(X_test_rfe,y_test)\n",
    "    score_list.append(score)\n",
    "    if(score>high_score):\n",
    "        high_score = score\n",
    "        nof = nof_list[n]\n",
    "        \n",
    "print(\"Optimum number of features: %d\" %nof)\n",
    "print(\"Score with %d features: %f\" % (nof, high_score))"
   ]
  },
  {
   "cell_type": "markdown",
   "id": "a56717d5-7df7-4f4c-880b-16f8ffa2a169",
   "metadata": {},
   "source": [
    "The RFE is the most liberal of all the feature selection algorithms so far. It found the best performance using linear regression on a subset of features selected based on the number of features desired was with 11/14 features. Now let's fit the regression model with the number of features suggested and find out which features were selected."
   ]
  },
  {
   "cell_type": "code",
   "execution_count": 16,
   "id": "3929b34a-4a0c-4413-ac78-208908a34d7e",
   "metadata": {},
   "outputs": [
    {
     "name": "stdout",
     "output_type": "stream",
     "text": [
      "Index(['sex', 'cp', 'fbs', 'restecg', 'thalachh', 'exng', 'oldpeak', 'slp',\n",
      "       'caa', 'thall'],\n",
      "      dtype='object')\n"
     ]
    },
    {
     "name": "stderr",
     "output_type": "stream",
     "text": [
      "/home/marklar/.local/lib/python3.9/site-packages/sklearn/utils/validation.py:70: FutureWarning: Pass n_features_to_select=10 as keyword args. From version 1.0 (renaming of 0.25) passing these as positional arguments will result in an error\n",
      "  warnings.warn(f\"Pass {args_msg} as keyword args. From version \"\n"
     ]
    }
   ],
   "source": [
    "cols = list(X.columns)\n",
    "model = LinearRegression()\n",
    "\n",
    "#Initializing RFE model\n",
    "rfe = RFE(model, 10)\n",
    "\n",
    "#Transforming data using RFE\n",
    "X_rfe = rfe.fit_transform(X,y)\n",
    "\n",
    "#Fitting the data to model\n",
    "model.fit(X_rfe,y)              \n",
    "was_selected_array = pd.Series(rfe.support_, index = cols)\n",
    "selected_features_rfe = temp[temp==True].index\n",
    "print(selected_features_rfe)"
   ]
  },
  {
   "cell_type": "markdown",
   "id": "7acc68d5-8473-40e1-b53a-fd6d85cfb9d1",
   "metadata": {},
   "source": [
    "### Embedded Methods\n",
    "\n",
    "This group of algorithms uses regularization methods to select features during training. We'll try with the Ridge regularization."
   ]
  },
  {
   "cell_type": "code",
   "execution_count": 18,
   "id": "76af9d7a-256a-4265-b6d2-6dd6bee42060",
   "metadata": {},
   "outputs": [
    {
     "name": "stdout",
     "output_type": "stream",
     "text": [
      "Best alpha using built-in RidgeCV: 10.000000\n",
      "Best score using built-in RidgeCV: 0.516540\n"
     ]
    }
   ],
   "source": [
    "reg = RidgeCV()\n",
    "reg.fit(X, y)\n",
    "print(\"Best alpha using built-in RidgeCV: %f\" % reg.alpha_)\n",
    "print(\"Best score using built-in RidgeCV: %f\" %reg.score(X,y))\n",
    "coef = pd.Series(reg.coef_, index = X.columns)"
   ]
  },
  {
   "cell_type": "code",
   "execution_count": 19,
   "id": "11681149-4655-441d-bc34-748b56170684",
   "metadata": {},
   "outputs": [
    {
     "name": "stdout",
     "output_type": "stream",
     "text": [
      "Lasso picked 13 variables and eliminated the other 0 variables\n"
     ]
    }
   ],
   "source": [
    "print(\"Lasso picked \" + str(sum(coef != 0)) + \" variables and eliminated the other \" +  str(sum(coef == 0)) + \" variables\")"
   ]
  },
  {
   "cell_type": "code",
   "execution_count": null,
   "id": "82fe0278-4907-4cfc-ace4-bb8be610a142",
   "metadata": {},
   "outputs": [],
   "source": []
  }
 ],
 "metadata": {
  "kernelspec": {
   "display_name": "Python 3",
   "language": "python",
   "name": "python3"
  },
  "language_info": {
   "codemirror_mode": {
    "name": "ipython",
    "version": 3
   },
   "file_extension": ".py",
   "mimetype": "text/x-python",
   "name": "python",
   "nbconvert_exporter": "python",
   "pygments_lexer": "ipython3",
   "version": "3.9.4"
  }
 },
 "nbformat": 4,
 "nbformat_minor": 5
}
